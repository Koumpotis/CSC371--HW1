{
 "cells": [
  {
   "cell_type": "code",
   "execution_count": 1,
   "id": "41a7a6b9-1117-437c-86a1-e374e534ecb3",
   "metadata": {},
   "outputs": [],
   "source": [
    "# Package imports\n",
    "import pandas as pd\n",
    "import numpy as np\n",
    "import matplotlib.pyplot as plt\n",
    "from sklearn.preprocessing import PolynomialFeatures\n",
    "from sklearn.linear_model import LinearRegression\n",
    "from sklearn.metrics import mean_squared_error"
   ]
  },
  {
   "cell_type": "code",
   "execution_count": 2,
   "id": "c8f42732-26f1-4927-9b80-ee6dfa023bef",
   "metadata": {},
   "outputs": [
    {
     "name": "stdout",
     "output_type": "stream",
     "text": [
      "      fixed acidity  volatile acidity  citric acid  residual sugar  chlorides  \\\n",
      "0               7.0              0.27         0.36            20.7      0.045   \n",
      "1               6.3              0.30         0.34             1.6      0.049   \n",
      "2               8.1              0.28         0.40             6.9      0.050   \n",
      "3               7.2              0.23         0.32             8.5      0.058   \n",
      "4               7.2              0.23         0.32             8.5      0.058   \n",
      "...             ...               ...          ...             ...        ...   \n",
      "4893            6.2              0.21         0.29             1.6      0.039   \n",
      "4894            6.6              0.32         0.36             8.0      0.047   \n",
      "4895            6.5              0.24         0.19             1.2      0.041   \n",
      "4896            5.5              0.29         0.30             1.1      0.022   \n",
      "4897            6.0              0.21         0.38             0.8      0.020   \n",
      "\n",
      "      free sulfur dioxide  total sulfur dioxide  density    pH  sulphates  \\\n",
      "0                    45.0                 170.0  1.00100  3.00       0.45   \n",
      "1                    14.0                 132.0  0.99400  3.30       0.49   \n",
      "2                    30.0                  97.0  0.99510  3.26       0.44   \n",
      "3                    47.0                 186.0  0.99560  3.19       0.40   \n",
      "4                    47.0                 186.0  0.99560  3.19       0.40   \n",
      "...                   ...                   ...      ...   ...        ...   \n",
      "4893                 24.0                  92.0  0.99114  3.27       0.50   \n",
      "4894                 57.0                 168.0  0.99490  3.15       0.46   \n",
      "4895                 30.0                 111.0  0.99254  2.99       0.46   \n",
      "4896                 20.0                 110.0  0.98869  3.34       0.38   \n",
      "4897                 22.0                  98.0  0.98941  3.26       0.32   \n",
      "\n",
      "      alcohol  quality  \n",
      "0         8.8        6  \n",
      "1         9.5        6  \n",
      "2        10.1        6  \n",
      "3         9.9        6  \n",
      "4         9.9        6  \n",
      "...       ...      ...  \n",
      "4893     11.2        6  \n",
      "4894      9.6        5  \n",
      "4895      9.4        6  \n",
      "4896     12.8        7  \n",
      "4897     11.8        6  \n",
      "\n",
      "[4898 rows x 12 columns]\n"
     ]
    },
    {
     "data": {
      "text/plain": [
       "[<matplotlib.lines.Line2D at 0x153d00410d60>,\n",
       " <matplotlib.lines.Line2D at 0x153d00410e20>,\n",
       " <matplotlib.lines.Line2D at 0x153d00410f40>,\n",
       " <matplotlib.lines.Line2D at 0x153d003a40a0>,\n",
       " <matplotlib.lines.Line2D at 0x153d003a41c0>,\n",
       " <matplotlib.lines.Line2D at 0x153d003a42e0>,\n",
       " <matplotlib.lines.Line2D at 0x153d003a4400>,\n",
       " <matplotlib.lines.Line2D at 0x153d003a4520>,\n",
       " <matplotlib.lines.Line2D at 0x153d003a4640>,\n",
       " <matplotlib.lines.Line2D at 0x153d003a4760>,\n",
       " <matplotlib.lines.Line2D at 0x153d003a4880>]"
      ]
     },
     "execution_count": 2,
     "metadata": {},
     "output_type": "execute_result"
    },
    {
     "data": {
      "image/png": "[encoded data removed]",
      "text/plain": [
       "<Figure size 432x288 with 1 Axes>"
      ]
     },
     "metadata": {
      "needs_background": "light"
     },
     "output_type": "display_data"
    }
   ],
   "source": [
    "df = pd.read_csv('winequality-white.csv', sep=';')\n",
    "print(df)\n",
    "\n",
    "df = df.to_numpy()\n",
    "# [\"fixed acidity\",\n",
    " # \"volatile acidity\",\n",
    " #  \"citric acid\",\n",
    " #    \"residual sugar\",\n",
    " #   \"chlorides\",\n",
    " #   \"free sulfur dioxide\",\n",
    " #   \"total sulfur dioxide\",\n",
    " #  \"density\",\n",
    " #  \"pH\",\n",
    " #   \"sulphates\",\n",
    " #   \"alcohol\"]\n",
    "\n",
    "x = df[:, 0:11]\n",
    "y = df[:, 11]\n",
    "\n",
    "plt.plot(x, y, 'rx')"
   ]
  },
  {
   "cell_type": "code",
   "execution_count": 3,
   "id": "8cb8953b-d3e6-40e9-a426-1c3d0e1a257b",
   "metadata": {},
   "outputs": [
    {
     "name": "stdout",
     "output_type": "stream",
     "text": [
      "[6. 6. 6. 6. 6.]\n",
      "[6.01566844 6.02925731 5.82715755 5.90500329 5.90500329]\n"
     ]
    }
   ],
   "source": [
    "poly = PolynomialFeatures(5)\n",
    "\n",
    "x_poly = poly.fit_transform(x)\n",
    "\n",
    "# train the model\n",
    "result = LinearRegression().fit(x_poly, y)\n",
    "# predicting with the model\n",
    "num_result= result.predict(x_poly)\n",
    "print(y[0:5])\n",
    "print(num_result[0:5])"
   ]
  },
  {
   "cell_type": "code",
   "execution_count": 4,
   "id": "c4c15f33-39b5-47b7-acb5-7f39747f3917",
   "metadata": {},
   "outputs": [
    {
     "data": {
      "text/plain": [
       "0.11786727848073132"
      ]
     },
     "execution_count": 4,
     "metadata": {},
     "output_type": "execute_result"
    }
   ],
   "source": [
    "mean_squared_error(y, num_result)"
   ]
  },
  {
   "cell_type": "code",
   "execution_count": 5,
   "id": "47ef791b-1f87-4714-97c2-3d85d13dba15",
   "metadata": {},
   "outputs": [
    {
     "name": "stdout",
     "output_type": "stream",
     "text": [
      "[5.82715754]\n",
      "6.0\n"
     ]
    }
   ],
   "source": [
    "random_row = x[5, :]\n",
    "\n",
    "x_rand = poly.fit_transform(random_row.reshape(1, -1))\n",
    "\n",
    "num_result_rand = result.predict(x_rand)\n",
    "\n",
    "print(num_result_rand)\n",
    "print(y[5])"
   ]
  }
 ],
 "metadata": {
  "kernelspec": {
   "display_name": "Python 3.8",
   "language": "python",
   "name": "python3"
  },
  "language_info": {
   "codemirror_mode": {
    "name": "ipython",
    "version": 3
   },
   "file_extension": ".py",
   "mimetype": "text/x-python",
   "name": "python",
   "nbconvert_exporter": "python",
   "pygments_lexer": "ipython3",
   "version": "3.8.6"
  }
 },
 "nbformat": 4,
 "nbformat_minor": 5
}
